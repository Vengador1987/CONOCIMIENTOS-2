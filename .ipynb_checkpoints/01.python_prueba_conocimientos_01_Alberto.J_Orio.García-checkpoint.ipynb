{
 "cells": [
  {
   "cell_type": "markdown",
   "id": "457c930e",
   "metadata": {},
   "source": [
    "## Prueba de Conocimientos Python 01\n",
    "\n",
    "Usar solo las librerias vistas en el modulo de **`Introduccion a Python`**."
   ]
  },
  {
   "cell_type": "markdown",
   "id": "82362cb2",
   "metadata": {},
   "source": [
    "### Ejercicio 1:\n",
    "\n",
    "Vamos a definir una función que simule el lanzamiento de un dado de **\"M\"** caras. La función debe preguntar al usuario cuantas caras tiene el dado, luego debe preguntar cuantas veces se quiere lanzar el dado y mostrar los resultados.\n",
    "\n",
    "\n",
    "- Define una función llamada **`dados()`** que no tome ningún parámetro y que haga lo siguiente:\n",
    "\n",
    "    1. Pregunte por pantalla cuantas caras tiene el dado. Guarda este valor en la variable **`m`**.\n",
    "    2. Pregunte por pantalla cuantas veces se va a lanzar el dado. Guarda este valor en la variable **`n`**.\n",
    "    3. Imprima por pantalla: **`Resultados de lanzar un dado de m caras n veces:`**.\n",
    "    4. Imprima por pantalla un número entero aleatorio entre 1 y **`m`** (incluidos) **`n-veces`**.\n",
    "    5. Guarde en una lista los números aleatorios que van saliendo, llama a esta lista **`resultados`**.\n",
    "    5. La función debe retornar la lista **`resultados`**."
   ]
  },
  {
   "cell_type": "code",
   "execution_count": 1,
   "id": "ebbd8965",
   "metadata": {},
   "outputs": [],
   "source": [
    "from random import randint"
   ]
  },
  {
   "cell_type": "code",
   "execution_count": 2,
   "id": "54db1f3b",
   "metadata": {},
   "outputs": [],
   "source": [
    "# Al principio de la función inicializo una lista vacía, para luego ir llenándola con los\n",
    "# números aleatorios, generados a través de un bucle for y usando randint, de la librería\n",
    "# random (guardados en la variable num_aleatorio). Además, utilizo el método format para\n",
    "# imprimir por pantalla la frase que pide el enunciado en el apartado 3, y que las caras\n",
    "# sean la variable m, y las veces la variable n, definidas tras inicializar la lista vacía.\n",
    "\n",
    "def dados():\n",
    "    \n",
    "    resultados = []\n",
    "    \n",
    "    m = int(input(\"¿Cuántas caras tiene el dado?\"))\n",
    "    n = int(input(\"¿Cuántas veces se va a lanzar el dado?\"))\n",
    "    print(\"Resultados de lanzar un dado de {} caras {} veces:\".format(m, n))\n",
    "    for i in range(1, n + 1):\n",
    "        num_aleatorio = randint(1, m)\n",
    "        print(num_aleatorio)\n",
    "        resultados.append(num_aleatorio)\n",
    "    \n",
    "    return resultados"
   ]
  },
  {
   "cell_type": "code",
   "execution_count": 3,
   "id": "cbfe8b58",
   "metadata": {},
   "outputs": [
    {
     "name": "stdin",
     "output_type": "stream",
     "text": [
      "¿Cuántas caras tiene el dado? 6\n",
      "¿Cuántas veces se va a lanzar el dado? 10\n"
     ]
    },
    {
     "name": "stdout",
     "output_type": "stream",
     "text": [
      "Resultados de lanzar un dado de 6 caras 10 veces:\n",
      "1\n",
      "1\n",
      "1\n",
      "6\n",
      "4\n",
      "2\n",
      "5\n",
      "3\n",
      "2\n",
      "4\n"
     ]
    },
    {
     "data": {
      "text/plain": [
       "[1, 1, 1, 6, 4, 2, 5, 3, 2, 4]"
      ]
     },
     "execution_count": 3,
     "metadata": {},
     "output_type": "execute_result"
    }
   ],
   "source": [
    "dados()"
   ]
  },
  {
   "cell_type": "code",
   "execution_count": null,
   "id": "025a3d58",
   "metadata": {},
   "outputs": [],
   "source": []
  },
  {
   "cell_type": "code",
   "execution_count": null,
   "id": "de96d633",
   "metadata": {},
   "outputs": [],
   "source": []
  },
  {
   "cell_type": "code",
   "execution_count": null,
   "id": "442de749",
   "metadata": {},
   "outputs": [],
   "source": []
  },
  {
   "cell_type": "code",
   "execution_count": null,
   "id": "f9660848",
   "metadata": {},
   "outputs": [],
   "source": []
  },
  {
   "cell_type": "markdown",
   "id": "13cf9c0e",
   "metadata": {},
   "source": [
    "### Ejercicio 2:\n",
    "\n",
    "Vamos a definir una función que simule un cajero automático con un número finito de billetes y monedas. Cada vez que se ejecute la función, el usuario va a ingresar o sacar dinero del cajero. En algún momento el cajero quedará vacio o no se podrá sacar una cifra exacta, en ese caso se deberá imprimir por pantalla que el cajero está fuera de servicio.\n",
    "\n",
    "Para este ejercicio el cajero tendrá billetes de 500, 100, 50, 20, 10 y 5 euros. Y monedas de 2, 1, 0.5, 0.2 y 0.1 euros.\n",
    "\n",
    "- Define una función llamada **`cajero()`** que tome como parametro de entrada un archivo binario (**`archivo`**) y que haga lo siguiente:\n",
    "1. Lea el archivo binario y lo guarde en la variable **`euros`**.\n",
    "    - Este archivo binario es un diccionario que tiene como llaves las denominaciones de billetes y monedas y como valores la cantidad de cada uno en el cajero.\n",
    "    \n",
    "    \n",
    "2. Imprima por pantalla que cantidad tiene de cada billete y moneda, además del total del dinero en el cajero.\n",
    "3. Pregunte por pantalla cuanto dinero el usuario va a sacar del cajero.\n",
    "4. Modifica los valores de cada llave, de modo que parezca que ahora el cajero tiene menos dinero.\n",
    "\n",
    "    - Ejemplo: Si el usuario saca **`97`** euros, este **`97`** se puede representar como **`50*1 + 20*2 + 5*1 + 2*1`**, por lo que de la llave **`50`** se resta 1, de la llave **`20`** se restan 2, de la llave **`5`** se resta 1 y de la llave **`2`** se resta 1.\n",
    "    \n",
    "    \n",
    "5. Guarda el diccionario en un archivo binario con el mismo nombre que el archivo binario del comienzo (**`cajero.pkl`**).\n",
    "\n",
    "6. Si el usuario intenta sacar más dinero del posible, que imprima por pantalla: **`Cajero sin fondos suficientes.`**"
   ]
  },
  {
   "cell_type": "code",
   "execution_count": 13,
   "id": "a73cc5fe",
   "metadata": {},
   "outputs": [],
   "source": [
    "import pickle"
   ]
  },
  {
   "cell_type": "code",
   "execution_count": 14,
   "id": "b9669bf5",
   "metadata": {},
   "outputs": [],
   "source": [
    "# Lo primero es leer el archivo binario y guardarlo en la variable euros.\n",
    "# Luego, en la variable total_dinero, se almacena, partiendo de la variable euros, \n",
    "# el total, y se imprime la variable euros y el total de dinero.\n",
    "# Tras esto, se pregunta al usuario cuanto quiere reirar, se guarda en la variable retirada, \n",
    "# y se reduce del total del dinero. Finalmente , se imprime la cantidad total de dinero que\n",
    "# queda, y un mensaje que indique que el cajero no tiene fondos, cuando la retirada sea\n",
    "# mayor que el dinero del que dispone el cajero.\n",
    "\n",
    "def cajero(archivo):\n",
    "    with open(\"cajero.pkl\", \"br\") as file:\n",
    "        euros = pickle.load(file)\n",
    "    \n",
    "    total_dinero = 0\n",
    "    for llave, valor in euros.items():\n",
    "        total_dinero += llave * valor\n",
    "    print(euros)\n",
    "    print(total_dinero, \"€\")\n",
    "    retirada = float(input(\"¿Cuánto desea retirar?\"))\n",
    "    total_dinero -= retirada\n",
    "    if retirada > total_dinero:\n",
    "        print(\"Cajero sin fondos suficientes.\")\n",
    "    else:\n",
    "        print(total_dinero, \"€\") "
   ]
  },
  {
   "cell_type": "code",
   "execution_count": 15,
   "id": "da84f9b4",
   "metadata": {},
   "outputs": [
    {
     "name": "stdout",
     "output_type": "stream",
     "text": [
      "{500: 56, 100: 72, 50: 33, 20: 132, 10: 338, 5: 200, 2: 925, 1: 185, 0.5: 55, 0.2: 92, 0.1: 16}\n",
      "45952.5 €\n"
     ]
    },
    {
     "name": "stdin",
     "output_type": "stream",
     "text": [
      "¿Cuánto desea retirar? 0\n"
     ]
    },
    {
     "name": "stdout",
     "output_type": "stream",
     "text": [
      "45952.5 €\n"
     ]
    }
   ],
   "source": [
    "cajero(\"cajero.pkl\")"
   ]
  },
  {
   "cell_type": "code",
   "execution_count": null,
   "id": "fb9def80",
   "metadata": {},
   "outputs": [],
   "source": [
    "# Faltaría modificar los valores de cada llave, según las retiradas de efectivo realizadas\n",
    "# y guardar el diccionario, sobreescribiendo el anterior, pero no soy capaz de hacer que funcione\n",
    "# esa parte integrándola en la función principal. Por eso muestro mis aproximaciones al resultado,\n",
    "# más abajo."
   ]
  },
  {
   "cell_type": "code",
   "execution_count": 33,
   "id": "7a137e28",
   "metadata": {},
   "outputs": [],
   "source": [
    "# Con un código parecido a este, estableceríamos cuántos billetes y monedas deberían ser\n",
    "# restados del diccionario euros; dependiendo de la variable retirada.\n",
    "\n",
    "def modificacion(retirada):\n",
    "\n",
    "    if (retirada % 500) != 0: # Si retirada no es divisible entre 500 me quedo con su parte entera.\n",
    "        p = retirada // 500\n",
    "    else:\n",
    "        return ((retirada//500),0,0) # Si es divisible entre 500 no necesito otros billetes o monedas.\n",
    "\n",
    "    n = retirada - (p*500) # Ahora defino la variable n que es lo que me resta.\n",
    "\n",
    "    if (n % 100) != 0: # Si lo que me queda no es divisible entre 100 cojo su parte entera.\n",
    "        s = n // 100\n",
    "    else:\n",
    "        return (p,(n//100),0) # Me quedo con p billetes de 500 y n/100(s) billetes de 100.\n",
    "\n",
    "    return p,s,(retirada-(500*p)-(100*s)) # Si llego aquí, el primero es p, el segundo s, y el tercero lo que me resta."
   ]
  },
  {
   "cell_type": "code",
   "execution_count": 34,
   "id": "bd5a9c5c",
   "metadata": {},
   "outputs": [
    {
     "data": {
      "text/plain": [
       "(1, 1, 0)"
      ]
     },
     "execution_count": 34,
     "metadata": {},
     "output_type": "execute_result"
    }
   ],
   "source": [
    "modificacion(600)"
   ]
  },
  {
   "cell_type": "code",
   "execution_count": null,
   "id": "540d3dfb",
   "metadata": {},
   "outputs": [],
   "source": []
  },
  {
   "cell_type": "code",
   "execution_count": null,
   "id": "d877b175",
   "metadata": {},
   "outputs": [],
   "source": [
    "# Con este código, se guardaría el archivo binario modificado, sobreescribiéndolo\n",
    "\n",
    "with open(\"cajero.pkl\", \"bw\") as file:\n",
    "    pickle.dump(euros, file)"
   ]
  },
  {
   "cell_type": "code",
   "execution_count": null,
   "id": "dc26ab59",
   "metadata": {},
   "outputs": [],
   "source": []
  },
  {
   "cell_type": "code",
   "execution_count": null,
   "id": "b4f35744",
   "metadata": {},
   "outputs": [],
   "source": []
  },
  {
   "cell_type": "code",
   "execution_count": null,
   "id": "620cc0af",
   "metadata": {},
   "outputs": [],
   "source": []
  },
  {
   "cell_type": "code",
   "execution_count": null,
   "id": "1f9f6904",
   "metadata": {},
   "outputs": [],
   "source": []
  },
  {
   "cell_type": "code",
   "execution_count": null,
   "id": "4f5dfcfb",
   "metadata": {},
   "outputs": [],
   "source": []
  }
 ],
 "metadata": {
  "kernelspec": {
   "display_name": "Python 3",
   "language": "python",
   "name": "python3"
  },
  "language_info": {
   "codemirror_mode": {
    "name": "ipython",
    "version": 3
   },
   "file_extension": ".py",
   "mimetype": "text/x-python",
   "name": "python",
   "nbconvert_exporter": "python",
   "pygments_lexer": "ipython3",
   "version": "3.8.8"
  }
 },
 "nbformat": 4,
 "nbformat_minor": 5
}
