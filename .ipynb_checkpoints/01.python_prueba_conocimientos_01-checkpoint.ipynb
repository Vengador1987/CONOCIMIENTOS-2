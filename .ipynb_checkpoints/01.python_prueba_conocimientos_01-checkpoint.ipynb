{
 "cells": [
  {
   "cell_type": "markdown",
   "id": "457c930e",
   "metadata": {},
   "source": [
    "## Prueba de Conocimientos Python 01\n",
    "\n",
    "Usar solo las librerias vistas en el modulo de **`Introduccion a Python`**."
   ]
  },
  {
   "cell_type": "markdown",
   "id": "82362cb2",
   "metadata": {},
   "source": [
    "### Ejercicio 1:\n",
    "\n",
    "Vamos a definir una función que simule el lanzamiento de un dado de **\"M\"** caras. La función debe preguntar al usuario cuantas caras tiene el dado, luego debe preguntar cuantas veces se quiere lanzar el dado y mostrar los resultados.\n",
    "\n",
    "\n",
    "- Define una función llamada **`dados()`** que no tome ningún parámetro y que haga lo siguiente:\n",
    "\n",
    "    1. Pregunte por pantalla cuantas caras tiene el dado. Guarda este valor en la variable **`m`**.\n",
    "    2. Pregunte por pantalla cuantas veces se va a lanzar el dado. Guarda este valor en la variable **`n`**.\n",
    "    3. Imprima por pantalla: **`Resultados de lanzar un dado de m caras n veces:`**.\n",
    "    4. Imprima por pantalla un número entero aleatorio entre 1 y **`m`** (incluidos) **`n-veces`**.\n",
    "    5. Guarde en una lista los números aleatorios que van saliendo, llama a esta lista **`resultados`**.\n",
    "    5. La función debe retornar la lista **`resultados`**."
   ]
  },
  {
   "cell_type": "code",
   "execution_count": null,
   "id": "ebbd8965",
   "metadata": {},
   "outputs": [],
   "source": []
  },
  {
   "cell_type": "code",
   "execution_count": null,
   "id": "54db1f3b",
   "metadata": {},
   "outputs": [],
   "source": []
  },
  {
   "cell_type": "code",
   "execution_count": null,
   "id": "cbfe8b58",
   "metadata": {},
   "outputs": [],
   "source": []
  },
  {
   "cell_type": "code",
   "execution_count": null,
   "id": "025a3d58",
   "metadata": {},
   "outputs": [],
   "source": []
  },
  {
   "cell_type": "code",
   "execution_count": null,
   "id": "de96d633",
   "metadata": {},
   "outputs": [],
   "source": []
  },
  {
   "cell_type": "code",
   "execution_count": null,
   "id": "442de749",
   "metadata": {},
   "outputs": [],
   "source": []
  },
  {
   "cell_type": "code",
   "execution_count": null,
   "id": "f9660848",
   "metadata": {},
   "outputs": [],
   "source": []
  },
  {
   "cell_type": "markdown",
   "id": "13cf9c0e",
   "metadata": {},
   "source": [
    "### Ejercicio 2:\n",
    "\n",
    "Vamos a definir una función que simule un cajero automático con un número finito de billetes y monedas. Cada vez que se ejecute la función, el usuario va a ingresar o sacar dinero del cajero. En algún momento el cajero quedará vacio o no se podrá sacar una cifra exacta, en ese caso se deberá imprimir por pantalla que el cajero está fuera de servicio.\n",
    "\n",
    "Para este ejercicio el cajero tendrá billetes de 500, 100, 50, 20, 10 y 5 euros. Y monedas de 2, 1, 0.5, 0.2 y 0.1 euros.\n",
    "\n",
    "- Define una función llamada **`cajero()`** que tome como parametro de entrada un archivo binario (**`archivo`**) y que haga lo siguiente:\n",
    "1. Lea el archivo binario y lo guarde en la variable **`euros`**.\n",
    "    - Este archivo binario es un diccionario que tiene como llaves las denominaciones de billetes y monedas y como valores la cantidad de cada uno en el cajero.\n",
    "    \n",
    "    \n",
    "2. Imprima por pantalla que cantidad tiene de cada billete y moneda, además del total del dinero en el cajero.\n",
    "3. Pregunte por pantalla cuanto dinero el usuario va a sacar del cajero.\n",
    "4. Modifica los valores de cada llave, de modo que parezca que ahora el cajero tiene menos dinero.\n",
    "\n",
    "    - Ejemplo: Si el usuario saca **`97`** euros, este **`97`** se puede representar como **`50*1 + 20*2 + 5*1 + 2*1`**, por lo que de la llave **`50`** se resta 1, de la llave **`20`** se restan 2, de la llave **`5`** se resta 1 y de la llave **`2`** se resta 1.\n",
    "    \n",
    "    \n",
    "5. Guarda el diccionario en un archivo binario con el mismo nombre que el archivo binario del comienzo (**`cajero.pkl`**).\n",
    "\n",
    "6. Si el usuario intenta sacar más dinero del posible, que imprima por pantalla: **`Cajero sin fondos suficientes.`**"
   ]
  },
  {
   "cell_type": "code",
   "execution_count": null,
   "id": "a73cc5fe",
   "metadata": {},
   "outputs": [],
   "source": []
  },
  {
   "cell_type": "code",
   "execution_count": null,
   "id": "b9669bf5",
   "metadata": {},
   "outputs": [],
   "source": []
  },
  {
   "cell_type": "code",
   "execution_count": null,
   "id": "da84f9b4",
   "metadata": {},
   "outputs": [],
   "source": []
  },
  {
   "cell_type": "code",
   "execution_count": null,
   "id": "fb9def80",
   "metadata": {},
   "outputs": [],
   "source": []
  },
  {
   "cell_type": "code",
   "execution_count": null,
   "id": "7a137e28",
   "metadata": {},
   "outputs": [],
   "source": []
  },
  {
   "cell_type": "code",
   "execution_count": null,
   "id": "bd5a9c5c",
   "metadata": {},
   "outputs": [],
   "source": []
  },
  {
   "cell_type": "code",
   "execution_count": null,
   "id": "540d3dfb",
   "metadata": {},
   "outputs": [],
   "source": []
  },
  {
   "cell_type": "code",
   "execution_count": null,
   "id": "d877b175",
   "metadata": {},
   "outputs": [],
   "source": []
  },
  {
   "cell_type": "code",
   "execution_count": null,
   "id": "dc26ab59",
   "metadata": {},
   "outputs": [],
   "source": []
  },
  {
   "cell_type": "code",
   "execution_count": null,
   "id": "b4f35744",
   "metadata": {},
   "outputs": [],
   "source": []
  },
  {
   "cell_type": "code",
   "execution_count": null,
   "id": "620cc0af",
   "metadata": {},
   "outputs": [],
   "source": []
  },
  {
   "cell_type": "code",
   "execution_count": null,
   "id": "1f9f6904",
   "metadata": {},
   "outputs": [],
   "source": []
  },
  {
   "cell_type": "code",
   "execution_count": null,
   "id": "4f5dfcfb",
   "metadata": {},
   "outputs": [],
   "source": []
  }
 ],
 "metadata": {
  "kernelspec": {
   "display_name": "Python 3",
   "language": "python",
   "name": "python3"
  },
  "language_info": {
   "codemirror_mode": {
    "name": "ipython",
    "version": 3
   },
   "file_extension": ".py",
   "mimetype": "text/x-python",
   "name": "python",
   "nbconvert_exporter": "python",
   "pygments_lexer": "ipython3",
   "version": "3.8.8"
  }
 },
 "nbformat": 4,
 "nbformat_minor": 5
}
