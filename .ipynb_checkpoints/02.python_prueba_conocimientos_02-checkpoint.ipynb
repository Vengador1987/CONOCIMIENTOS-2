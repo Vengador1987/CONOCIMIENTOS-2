{
 "cells": [
  {
   "cell_type": "markdown",
   "id": "7eecd0de",
   "metadata": {},
   "source": [
    "## Prueba de Conocimientos Python 02\n",
    "\n",
    "Usar solo las librerias vistas en el modulo de **`Introduccion a Python`**.\n",
    "\n",
    "Recomendación:\n",
    "\n",
    "**`from datetime import datetime`**\n",
    "\n",
    "**`from collections import Counter`**"
   ]
  },
  {
   "cell_type": "markdown",
   "id": "6765d9ac",
   "metadata": {},
   "source": [
    "Vamos a definir una clase llamada **`UsuarioNetflix`**.\n",
    "\n",
    "Esta clase tendrá nuestra información de usuario, así como un todas las películas que hemos visto, y las puntuación de cada pelicula.\n",
    "\n",
    "- Define una clase llamada **`UsuarioNetflix`** que tenga los siguientes atributos:\n",
    "1. **`username`** que será el nombre del usuario.\n",
    "2. **`movies`** que será un diccionario:\n",
    "    - Las llaves de este diccionario serán los titulos de las peliculas.\n",
    "    - Los valores de cada llave será un diccionario que tendrá las siguientes llaves:\n",
    "        - La puntuación de cada pelicula dada por el usuario.\n",
    "        - La fecha en la en la que el usuario vio la pelicula (**`Dia-Mes-Año`**).\n",
    "        - Genero.\n",
    "    - Debe ser inicializado vacio.\n",
    "    \n",
    "- La clase tendrá los siguientes métodos:\n",
    "1. **`ver_pelicula()`** que tome los siguientes parámetros:\n",
    "    - **`titulo`**: el titulo de la pelicula.\n",
    "    - **`puntuacion`**: la puntuacion del usuario.\n",
    "    - **`genero`**: el género de la película.\n",
    "    - **`fecha`**: la fecha de cuando el usuario vio la pelicula, esta fecha debe estar en formato **`Dia-Mes-Año`**. Transforma esta fecha a un objeto **`datetime`**. Haz que por defecto la fecha sea el día de hoy.\n",
    "    \n",
    "    Éste método deberá hacer lo siguiente:\n",
    "    - Agrege la información al diccionario **`movies`** tal que:\n",
    "```python\n",
    "{titulo : {\"puntuacion\" : puntuacion, \"fecha\" : fecha, \"genero\" : genero}}\n",
    "```\n",
    "    - El método no retorna nada.\n",
    "    \n",
    "    \n",
    "2. **`display_peliculas()`** que no tome ningún parámetro:\n",
    "    - Muestre por pantalla la lista de peliculas que el usuario a visto, seguido de su puntuación, la fecha y el género.\n",
    "        - **`Titulo: Sipderman - Puntuación: 5 - Fecha: 01-01-2022 - Género: Acción`**.\n",
    "    - La función no retorna nada.\n",
    "    \n",
    "    \n",
    "3. **`mas_gustados()`** que no tome ningún parámetro:\n",
    "    - Encuentre cual es la puntuación más alta dada por el usuario. Guardalo en la variable **`max_puntuacion`**.\n",
    "    - Retorne una lista con las peliculas que tengan la puntuación más alta (**`max_puntuacion`**). Llama a la lista **`peliculas`**.\n",
    "    \n",
    "    \n",
    "4. **`menos_gustados()`** que no tome ningún parámetro:\n",
    "    - Encuentre cual es la puntuación más baja dada por el usuario. Guardalo en la variable **`min_puntuacion`**.\n",
    "    - Retorne una lista con las peliculas que tengan la puntuación más baja (**`min_puntuacion`**). Llama a la lista **`peliculas`**.\n",
    "    \n",
    "    \n",
    "5. **`info_genero()`** que no tome ningún parámetro:\n",
    "    - Imprima por pantalla la siguiente información:\n",
    "        - Género más visto.\n",
    "        - Género menos visto.\n",
    "        - Género con la puntuación más alta.\n",
    "        - Género con la puntuación más baja.\n",
    "        - Todos los géneros vistos por el usuario.\n",
    "        - El método no retorna nada.\n",
    "        \n",
    "        \n",
    "6. **`info_fechas()`** que no time ningún parámetro:\n",
    "    - Imprima por pantalla la siguiente información:\n",
    "        - Mes cuando se vió más peliculas.\n",
    "        - Mes cuando se vió menos peliculas.\n",
    "        - Año cuando se vió más peliculas.\n",
    "        - Año cuando se vió menos peliculas.\n",
    "        - Dia de la semana cuando se ve más peliculas (El resultado deberá ser un día de la semana).\n",
    "        - Dia de la semana cuando se ve menos peliculas (El resultado deberá ser un día de la semana).\n",
    "        \n",
    "        \n",
    "6. **`exportar_info()`** que no tome ningún parámetro:\n",
    "    - Guarde en un archivo **`.pkl`** el diccionario **`movies`**. El archivo debe llamarse **`usuario_netflix_info.pkl`**.\n",
    "    - El método no retorna nada."
   ]
  },
  {
   "cell_type": "code",
   "execution_count": null,
   "id": "74dbb854",
   "metadata": {},
   "outputs": [],
   "source": []
  },
  {
   "cell_type": "code",
   "execution_count": null,
   "id": "a24e025a",
   "metadata": {},
   "outputs": [],
   "source": []
  },
  {
   "cell_type": "code",
   "execution_count": null,
   "id": "44b0c23d",
   "metadata": {},
   "outputs": [],
   "source": []
  },
  {
   "cell_type": "code",
   "execution_count": null,
   "id": "b362a8db",
   "metadata": {},
   "outputs": [],
   "source": []
  },
  {
   "cell_type": "code",
   "execution_count": null,
   "id": "41e38752",
   "metadata": {},
   "outputs": [],
   "source": []
  },
  {
   "cell_type": "code",
   "execution_count": null,
   "id": "27d5d6b5",
   "metadata": {},
   "outputs": [],
   "source": []
  },
  {
   "cell_type": "code",
   "execution_count": null,
   "id": "6ed665f3",
   "metadata": {},
   "outputs": [],
   "source": []
  },
  {
   "cell_type": "code",
   "execution_count": null,
   "id": "c01a12d8",
   "metadata": {},
   "outputs": [],
   "source": []
  },
  {
   "cell_type": "code",
   "execution_count": null,
   "id": "3c0d5eb4",
   "metadata": {},
   "outputs": [],
   "source": []
  },
  {
   "cell_type": "code",
   "execution_count": null,
   "id": "e6a4a0d8",
   "metadata": {},
   "outputs": [],
   "source": []
  },
  {
   "cell_type": "code",
   "execution_count": null,
   "id": "549eb364",
   "metadata": {},
   "outputs": [],
   "source": []
  },
  {
   "cell_type": "code",
   "execution_count": null,
   "id": "b1dcfea1",
   "metadata": {},
   "outputs": [],
   "source": []
  }
 ],
 "metadata": {
  "kernelspec": {
   "display_name": "Python 3",
   "language": "python",
   "name": "python3"
  },
  "language_info": {
   "codemirror_mode": {
    "name": "ipython",
    "version": 3
   },
   "file_extension": ".py",
   "mimetype": "text/x-python",
   "name": "python",
   "nbconvert_exporter": "python",
   "pygments_lexer": "ipython3",
   "version": "3.8.8"
  }
 },
 "nbformat": 4,
 "nbformat_minor": 5
}
