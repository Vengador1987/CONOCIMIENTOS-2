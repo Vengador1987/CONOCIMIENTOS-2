{
 "cells": [
  {
   "cell_type": "markdown",
   "id": "7eecd0de",
   "metadata": {},
   "source": [
    "## Prueba de Conocimientos Python 02\n",
    "\n",
    "Usar solo las librerias vistas en el modulo de **`Introduccion a Python`**.\n",
    "\n",
    "Recomendación:\n",
    "\n",
    "**`from datetime import datetime`**\n",
    "\n",
    "**`from collections import Counter`**"
   ]
  },
  {
   "cell_type": "markdown",
   "id": "6765d9ac",
   "metadata": {},
   "source": [
    "Vamos a definir una clase llamada **`UsuarioNetflix`**.\n",
    "\n",
    "Esta clase tendrá nuestra información de usuario, así como un todas las películas que hemos visto, y las puntuación de cada pelicula.\n",
    "\n",
    "- Define una clase llamada **`UsuarioNetflix`** que tenga los siguientes atributos:\n",
    "1. **`username`** que será el nombre del usuario.\n",
    "2. **`movies`** que será un diccionario:\n",
    "    - Las llaves de este diccionario serán los titulos de las peliculas.\n",
    "    - Los valores de cada llave será un diccionario que tendrá las siguientes llaves:\n",
    "        - La puntuación de cada pelicula dada por el usuario.\n",
    "        - La fecha en la en la que el usuario vio la pelicula (**`Dia-Mes-Año`**).\n",
    "        - Genero.\n",
    "    - Debe ser inicializado vacio.\n",
    "    \n",
    "- La clase tendrá los siguientes métodos:\n",
    "1. **`ver_pelicula()`** que tome los siguientes parámetros:\n",
    "    - **`titulo`**: el titulo de la pelicula.\n",
    "    - **`puntuacion`**: la puntuacion del usuario.\n",
    "    - **`genero`**: el género de la película.\n",
    "    - **`fecha`**: la fecha de cuando el usuario vio la pelicula, esta fecha debe estar en formato **`Dia-Mes-Año`**. Transforma esta fecha a un objeto **`datetime`**. Haz que por defecto la fecha sea el día de hoy.\n",
    "    \n",
    "    Éste método deberá hacer lo siguiente:\n",
    "    - Agrege la información al diccionario **`movies`** tal que:\n",
    "```python\n",
    "{titulo : {\"puntuacion\" : puntuacion, \"fecha\" : fecha, \"genero\" : genero}}\n",
    "```\n",
    "    - El método no retorna nada.\n",
    "    \n",
    "    \n",
    "2. **`display_peliculas()`** que no tome ningún parámetro:\n",
    "    - Muestre por pantalla la lista de peliculas que el usuario a visto, seguido de su puntuación, la fecha y el género.\n",
    "        - **`Titulo: Sipderman - Puntuación: 5 - Fecha: 01-01-2022 - Género: Acción`**.\n",
    "    - La función no retorna nada.\n",
    "    \n",
    "    \n",
    "3. **`mas_gustados()`** que no tome ningún parámetro:\n",
    "    - Encuentre cual es la puntuación más alta dada por el usuario. Guardalo en la variable **`max_puntuacion`**.\n",
    "    - Retorne una lista con las peliculas que tengan la puntuación más alta (**`max_puntuacion`**). Llama a la lista **`peliculas`**.\n",
    "    \n",
    "    \n",
    "4. **`menos_gustados()`** que no tome ningún parámetro:\n",
    "    - Encuentre cual es la puntuación más baja dada por el usuario. Guardalo en la variable **`min_puntuacion`**.\n",
    "    - Retorne una lista con las peliculas que tengan la puntuación más baja (**`min_puntuacion`**). Llama a la lista **`peliculas`**.\n",
    "    \n",
    "    \n",
    "5. **`info_genero()`** que no tome ningún parámetro:\n",
    "    - Imprima por pantalla la siguiente información:\n",
    "        - Género más visto.\n",
    "        - Género menos visto.\n",
    "        - Género con la puntuación más alta.\n",
    "        - Género con la puntuación más baja.\n",
    "        - Todos los géneros vistos por el usuario.\n",
    "        - El método no retorna nada.\n",
    "        \n",
    "        \n",
    "6. **`info_fechas()`** que no time ningún parámetro:\n",
    "    - Imprima por pantalla la siguiente información:\n",
    "        - Mes cuando se vió más peliculas.\n",
    "        - Mes cuando se vió menos peliculas.\n",
    "        - Año cuando se vió más peliculas.\n",
    "        - Año cuando se vió menos peliculas.\n",
    "        - Dia de la semana cuando se ve más peliculas (El resultado deberá ser un día de la semana).\n",
    "        - Dia de la semana cuando se ve menos peliculas (El resultado deberá ser un día de la semana).\n",
    "        \n",
    "        \n",
    "6. **`exportar_info()`** que no tome ningún parámetro:\n",
    "    - Guarde en un archivo **`.pkl`** el diccionario **`movies`**. El archivo debe llamarse **`usuario_netflix_info.pkl`**.\n",
    "    - El método no retorna nada."
   ]
  },
  {
   "cell_type": "code",
   "execution_count": 528,
   "id": "74dbb854",
   "metadata": {},
   "outputs": [],
   "source": [
    "from datetime import datetime\n",
    "\n",
    "from collections import Counter\n",
    "\n",
    "import pickle"
   ]
  },
  {
   "cell_type": "code",
   "execution_count": 529,
   "id": "a24e025a",
   "metadata": {},
   "outputs": [],
   "source": [
    "# Se crea la clase, con los parámetros username y movies (inicializando este último como un diccionario vacío)\n",
    "# En el métrodo ver_película, se llena el diccionario (en este caso con 5 películas, y en el siguiente se imprime su contenido.\n",
    "# En mas y menos gustados, he ordenado de mayor a menor, por puntuación, las películas.\n",
    "# Con el último método, se guardaría el diccionario movies\n",
    "\n",
    "class UsuarioNetflix:\n",
    "    \n",
    "    def __init__(self, username, movies):\n",
    "        self.username = username\n",
    "        self.movies = movies = dict()\n",
    "        \n",
    "    def ver_pelicula(self, titulo, puntuacion, genero, fecha):\n",
    "        movies[titulo] = {'Puntuación': puntuacion, 'Fecha': fecha, 'Género': genero}\n",
    "        \n",
    "    def display_peliculas(self):\n",
    "        print(movies)\n",
    "        \n",
    "    def mas_gustados(self):\n",
    "        peliculas1 = sorted(movies.items(), reverse = True, key = lambda x : x[1]['Puntuación'])\n",
    "        return peliculas1\n",
    "    \n",
    "    def menos_gustados(self):\n",
    "        peliculas2 = sorted(movies.items(), key = lambda x : x[1]['Puntuación'])\n",
    "        return peliculas2        \n",
    "        \n",
    "    def exportar_info(self):\n",
    "        with open(\"usuario_netflix_info.pkl\", \"bw\") as file:\n",
    "            pickle.dump(movies, file)"
   ]
  },
  {
   "cell_type": "code",
   "execution_count": 530,
   "id": "44b0c23d",
   "metadata": {},
   "outputs": [],
   "source": [
    "usuario = UsuarioNetflix(\"Alberto\", movies)"
   ]
  },
  {
   "cell_type": "code",
   "execution_count": 531,
   "id": "b362a8db",
   "metadata": {},
   "outputs": [],
   "source": [
    "usuario.ver_pelicula(\"Dune\", 9, \"Ciencia-Ficción\", \"17/09/2021\")"
   ]
  },
  {
   "cell_type": "code",
   "execution_count": 532,
   "id": "a7de045d-43af-4aea-a7d2-23bb75b78fd2",
   "metadata": {},
   "outputs": [],
   "source": [
    "usuario.ver_pelicula(\"Sin tiempo para morir\", 6, \"Acción\", \"01/10/2021\")"
   ]
  },
  {
   "cell_type": "code",
   "execution_count": 533,
   "id": "fa2c5d6b-123a-4500-a1d1-a6cee4be2683",
   "metadata": {},
   "outputs": [],
   "source": [
    "usuario.ver_pelicula(\"Spider-man: no way home\", 7, \"Superhéroes\", \"16/12/2021\")"
   ]
  },
  {
   "cell_type": "code",
   "execution_count": 534,
   "id": "cd6e02cd-12b7-44ac-b3a9-f29b209c221a",
   "metadata": {},
   "outputs": [],
   "source": [
    "usuario.ver_pelicula(\"Uncharted\", 7, \"Aventuras\", \"11/02/2022\")"
   ]
  },
  {
   "cell_type": "code",
   "execution_count": 535,
   "id": "bdf74827-2f90-4198-883e-db51c8537bdd",
   "metadata": {},
   "outputs": [],
   "source": [
    "usuario.ver_pelicula(\"The Batman\", 8, \"Superhéroes\", \"04/03/2022\")"
   ]
  },
  {
   "cell_type": "code",
   "execution_count": 536,
   "id": "3ad817a7-1ece-4d5e-aba5-b9584a15075b",
   "metadata": {},
   "outputs": [
    {
     "name": "stdout",
     "output_type": "stream",
     "text": [
      "{'Dune': {'Puntuación': 9, 'Fecha': '17/09/2021', 'Género': 'Ciencia-Ficción'}, 'Sin tiempo para morir': {'Puntuación': 6, 'Fecha': '01/10/2021', 'Género': 'Acción'}, 'Spider-man: no way home': {'Puntuación': 7, 'Fecha': '16/12/2021', 'Género': 'Superhéroes'}, 'Uncharted': {'Puntuación': 7, 'Fecha': '11/02/2022', 'Género': 'Aventuras'}, 'The Batman': {'Puntuación': 8, 'Fecha': '04/03/2022', 'Género': 'Superhéroes'}}\n"
     ]
    }
   ],
   "source": [
    "usuario.display_peliculas()"
   ]
  },
  {
   "cell_type": "code",
   "execution_count": 537,
   "id": "cbbecf0a-3981-4416-acc3-c998bac4e223",
   "metadata": {},
   "outputs": [
    {
     "data": {
      "text/plain": [
       "[('Dune',\n",
       "  {'Puntuación': 9, 'Fecha': '17/09/2021', 'Género': 'Ciencia-Ficción'}),\n",
       " ('The Batman',\n",
       "  {'Puntuación': 8, 'Fecha': '04/03/2022', 'Género': 'Superhéroes'}),\n",
       " ('Spider-man: no way home',\n",
       "  {'Puntuación': 7, 'Fecha': '16/12/2021', 'Género': 'Superhéroes'}),\n",
       " ('Uncharted',\n",
       "  {'Puntuación': 7, 'Fecha': '11/02/2022', 'Género': 'Aventuras'}),\n",
       " ('Sin tiempo para morir',\n",
       "  {'Puntuación': 6, 'Fecha': '01/10/2021', 'Género': 'Acción'})]"
      ]
     },
     "execution_count": 537,
     "metadata": {},
     "output_type": "execute_result"
    }
   ],
   "source": [
    "usuario.mas_gustados()"
   ]
  },
  {
   "cell_type": "code",
   "execution_count": 538,
   "id": "2ecd5911-7888-4d8b-a287-462869d7ba59",
   "metadata": {},
   "outputs": [
    {
     "data": {
      "text/plain": [
       "[('Sin tiempo para morir',\n",
       "  {'Puntuación': 6, 'Fecha': '01/10/2021', 'Género': 'Acción'}),\n",
       " ('Spider-man: no way home',\n",
       "  {'Puntuación': 7, 'Fecha': '16/12/2021', 'Género': 'Superhéroes'}),\n",
       " ('Uncharted',\n",
       "  {'Puntuación': 7, 'Fecha': '11/02/2022', 'Género': 'Aventuras'}),\n",
       " ('The Batman',\n",
       "  {'Puntuación': 8, 'Fecha': '04/03/2022', 'Género': 'Superhéroes'}),\n",
       " ('Dune',\n",
       "  {'Puntuación': 9, 'Fecha': '17/09/2021', 'Género': 'Ciencia-Ficción'})]"
      ]
     },
     "execution_count": 538,
     "metadata": {},
     "output_type": "execute_result"
    }
   ],
   "source": [
    "usuario.menos_gustados()"
   ]
  },
  {
   "cell_type": "code",
   "execution_count": 539,
   "id": "a31251bd-0798-4995-8e8d-cf052a418c9f",
   "metadata": {},
   "outputs": [],
   "source": [
    "usuario.exportar_info()"
   ]
  },
  {
   "cell_type": "markdown",
   "id": "0a0a6493-7b5d-4b08-8f78-4def18d099e1",
   "metadata": {},
   "source": [
    "Nota Final: Los métodos info_genero() e info_fechas() no he sido capaz de implementarlos, al igual\n",
    "que las partes del datetime, y las variable max_puntuacion y min_puntuacion"
   ]
  },
  {
   "cell_type": "code",
   "execution_count": null,
   "id": "c1b7d5b7-a06f-43c0-af71-4a7fa2e99fc8",
   "metadata": {},
   "outputs": [],
   "source": []
  },
  {
   "cell_type": "code",
   "execution_count": null,
   "id": "a2abfeff-2706-4db7-a70e-07f01cc76a35",
   "metadata": {},
   "outputs": [],
   "source": []
  },
  {
   "cell_type": "code",
   "execution_count": null,
   "id": "41e38752",
   "metadata": {},
   "outputs": [],
   "source": []
  },
  {
   "cell_type": "code",
   "execution_count": null,
   "id": "27d5d6b5",
   "metadata": {},
   "outputs": [],
   "source": []
  },
  {
   "cell_type": "code",
   "execution_count": null,
   "id": "6ed665f3",
   "metadata": {},
   "outputs": [],
   "source": []
  },
  {
   "cell_type": "code",
   "execution_count": null,
   "id": "c01a12d8",
   "metadata": {},
   "outputs": [],
   "source": []
  },
  {
   "cell_type": "code",
   "execution_count": null,
   "id": "3c0d5eb4",
   "metadata": {},
   "outputs": [],
   "source": []
  },
  {
   "cell_type": "code",
   "execution_count": null,
   "id": "e6a4a0d8",
   "metadata": {},
   "outputs": [],
   "source": []
  },
  {
   "cell_type": "code",
   "execution_count": null,
   "id": "549eb364",
   "metadata": {},
   "outputs": [],
   "source": []
  },
  {
   "cell_type": "code",
   "execution_count": null,
   "id": "b1dcfea1",
   "metadata": {},
   "outputs": [],
   "source": []
  }
 ],
 "metadata": {
  "kernelspec": {
   "display_name": "Python 3",
   "language": "python",
   "name": "python3"
  },
  "language_info": {
   "codemirror_mode": {
    "name": "ipython",
    "version": 3
   },
   "file_extension": ".py",
   "mimetype": "text/x-python",
   "name": "python",
   "nbconvert_exporter": "python",
   "pygments_lexer": "ipython3",
   "version": "3.8.8"
  }
 },
 "nbformat": 4,
 "nbformat_minor": 5
}
